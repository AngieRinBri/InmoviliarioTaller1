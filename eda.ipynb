{
 "cells": [
  {
   "cell_type": "code",
   "execution_count": 1,
   "metadata": {},
   "outputs": [],
   "source": [
    "import pandas as pd\n",
    "import matplotlib.pyplot as plt\n",
    "import seaborn as sns"
   ]
  },
  {
   "cell_type": "code",
   "execution_count": 2,
   "metadata": {},
   "outputs": [],
   "source": [
    "# Pandas configuration for extending the number of columns and rows to show\n",
    "pd.set_option(\"display.max_columns\", None)\n",
    "pd.set_option(\"display.max_rows\", 100)"
   ]
  },
  {
   "cell_type": "code",
   "execution_count": 3,
   "metadata": {},
   "outputs": [],
   "source": [
    "# Loading the CSV file as dataframe\n",
    "listings_df = pd.read_csv(\"./DataSet/listings.csv.gz\")\n"
   ]
  },
  {
   "cell_type": "code",
   "execution_count": 4,
   "metadata": {},
   "outputs": [
    {
     "data": {
      "text/plain": [
       "(8427, 75)"
      ]
     },
     "execution_count": 4,
     "metadata": {},
     "output_type": "execute_result"
    }
   ],
   "source": [
    "# Showing dataframe dimensions\n",
    "listings_df.shape"
   ]
  },
  {
   "cell_type": "code",
   "execution_count": 5,
   "metadata": {},
   "outputs": [
    {
     "data": {
      "text/plain": [
       "id                                                int64\n",
       "listing_url                                      object\n",
       "scrape_id                                         int64\n",
       "last_scraped                                     object\n",
       "source                                           object\n",
       "name                                             object\n",
       "description                                      object\n",
       "neighborhood_overview                            object\n",
       "picture_url                                      object\n",
       "host_id                                           int64\n",
       "host_url                                         object\n",
       "host_name                                        object\n",
       "host_since                                       object\n",
       "host_location                                    object\n",
       "host_about                                       object\n",
       "host_response_time                               object\n",
       "host_response_rate                               object\n",
       "host_acceptance_rate                             object\n",
       "host_is_superhost                                object\n",
       "host_thumbnail_url                               object\n",
       "host_picture_url                                 object\n",
       "host_neighbourhood                               object\n",
       "host_listings_count                               int64\n",
       "host_total_listings_count                         int64\n",
       "host_verifications                               object\n",
       "host_has_profile_pic                             object\n",
       "host_identity_verified                           object\n",
       "neighbourhood                                    object\n",
       "neighbourhood_cleansed                           object\n",
       "neighbourhood_group_cleansed                    float64\n",
       "latitude                                        float64\n",
       "longitude                                       float64\n",
       "property_type                                    object\n",
       "room_type                                        object\n",
       "accommodates                                      int64\n",
       "bathrooms                                       float64\n",
       "bathrooms_text                                   object\n",
       "bedrooms                                        float64\n",
       "beds                                            float64\n",
       "amenities                                        object\n",
       "price                                            object\n",
       "minimum_nights                                    int64\n",
       "maximum_nights                                    int64\n",
       "minimum_minimum_nights                            int64\n",
       "maximum_minimum_nights                            int64\n",
       "minimum_maximum_nights                            int64\n",
       "maximum_maximum_nights                            int64\n",
       "minimum_nights_avg_ntm                          float64\n",
       "maximum_nights_avg_ntm                          float64\n",
       "calendar_updated                                float64\n",
       "has_availability                                 object\n",
       "availability_30                                   int64\n",
       "availability_60                                   int64\n",
       "availability_90                                   int64\n",
       "availability_365                                  int64\n",
       "calendar_last_scraped                            object\n",
       "number_of_reviews                                 int64\n",
       "number_of_reviews_ltm                             int64\n",
       "number_of_reviews_l30d                            int64\n",
       "first_review                                     object\n",
       "last_review                                      object\n",
       "review_scores_rating                            float64\n",
       "review_scores_accuracy                          float64\n",
       "review_scores_cleanliness                       float64\n",
       "review_scores_checkin                           float64\n",
       "review_scores_communication                     float64\n",
       "review_scores_location                          float64\n",
       "review_scores_value                             float64\n",
       "license                                         float64\n",
       "instant_bookable                                 object\n",
       "calculated_host_listings_count                    int64\n",
       "calculated_host_listings_count_entire_homes       int64\n",
       "calculated_host_listings_count_private_rooms      int64\n",
       "calculated_host_listings_count_shared_rooms       int64\n",
       "reviews_per_month                               float64\n",
       "dtype: object"
      ]
     },
     "execution_count": 5,
     "metadata": {},
     "output_type": "execute_result"
    }
   ],
   "source": [
    "# Showing column types\n",
    "listings_df.dtypes"
   ]
  },
  {
   "cell_type": "code",
   "execution_count": 6,
   "metadata": {},
   "outputs": [
    {
     "data": {
      "text/plain": [
       "8427"
      ]
     },
     "execution_count": 6,
     "metadata": {},
     "output_type": "execute_result"
    }
   ],
   "source": [
    "# Showing the number of unique values of listing ids\n",
    "# This can be helpful to diagnose duplicity\n",
    "listings_df[\"id\"].nunique()"
   ]
  },
  {
   "cell_type": "code",
   "execution_count": 7,
   "metadata": {},
   "outputs": [
    {
     "data": {
      "text/html": [
       "<div>\n",
       "<style scoped>\n",
       "    .dataframe tbody tr th:only-of-type {\n",
       "        vertical-align: middle;\n",
       "    }\n",
       "\n",
       "    .dataframe tbody tr th {\n",
       "        vertical-align: top;\n",
       "    }\n",
       "\n",
       "    .dataframe thead th {\n",
       "        text-align: right;\n",
       "    }\n",
       "</style>\n",
       "<table border=\"1\" class=\"dataframe\">\n",
       "  <thead>\n",
       "    <tr style=\"text-align: right;\">\n",
       "      <th></th>\n",
       "      <th>id</th>\n",
       "      <th>listing_url</th>\n",
       "      <th>scrape_id</th>\n",
       "      <th>last_scraped</th>\n",
       "      <th>source</th>\n",
       "      <th>name</th>\n",
       "      <th>description</th>\n",
       "      <th>neighborhood_overview</th>\n",
       "      <th>picture_url</th>\n",
       "      <th>host_id</th>\n",
       "      <th>host_url</th>\n",
       "      <th>host_name</th>\n",
       "      <th>host_since</th>\n",
       "      <th>host_location</th>\n",
       "      <th>host_about</th>\n",
       "      <th>host_response_time</th>\n",
       "      <th>host_response_rate</th>\n",
       "      <th>host_acceptance_rate</th>\n",
       "      <th>host_is_superhost</th>\n",
       "      <th>host_thumbnail_url</th>\n",
       "      <th>host_picture_url</th>\n",
       "      <th>host_neighbourhood</th>\n",
       "      <th>host_listings_count</th>\n",
       "      <th>host_total_listings_count</th>\n",
       "      <th>host_verifications</th>\n",
       "      <th>host_has_profile_pic</th>\n",
       "      <th>host_identity_verified</th>\n",
       "      <th>neighbourhood</th>\n",
       "      <th>neighbourhood_cleansed</th>\n",
       "      <th>neighbourhood_group_cleansed</th>\n",
       "      <th>latitude</th>\n",
       "      <th>longitude</th>\n",
       "      <th>property_type</th>\n",
       "      <th>room_type</th>\n",
       "      <th>accommodates</th>\n",
       "      <th>bathrooms</th>\n",
       "      <th>bathrooms_text</th>\n",
       "      <th>bedrooms</th>\n",
       "      <th>beds</th>\n",
       "      <th>amenities</th>\n",
       "      <th>price</th>\n",
       "      <th>minimum_nights</th>\n",
       "      <th>maximum_nights</th>\n",
       "      <th>minimum_minimum_nights</th>\n",
       "      <th>maximum_minimum_nights</th>\n",
       "      <th>minimum_maximum_nights</th>\n",
       "      <th>maximum_maximum_nights</th>\n",
       "      <th>minimum_nights_avg_ntm</th>\n",
       "      <th>maximum_nights_avg_ntm</th>\n",
       "      <th>calendar_updated</th>\n",
       "      <th>has_availability</th>\n",
       "      <th>availability_30</th>\n",
       "      <th>availability_60</th>\n",
       "      <th>availability_90</th>\n",
       "      <th>availability_365</th>\n",
       "      <th>calendar_last_scraped</th>\n",
       "      <th>number_of_reviews</th>\n",
       "      <th>number_of_reviews_ltm</th>\n",
       "      <th>number_of_reviews_l30d</th>\n",
       "      <th>first_review</th>\n",
       "      <th>last_review</th>\n",
       "      <th>review_scores_rating</th>\n",
       "      <th>review_scores_accuracy</th>\n",
       "      <th>review_scores_cleanliness</th>\n",
       "      <th>review_scores_checkin</th>\n",
       "      <th>review_scores_communication</th>\n",
       "      <th>review_scores_location</th>\n",
       "      <th>review_scores_value</th>\n",
       "      <th>license</th>\n",
       "      <th>instant_bookable</th>\n",
       "      <th>calculated_host_listings_count</th>\n",
       "      <th>calculated_host_listings_count_entire_homes</th>\n",
       "      <th>calculated_host_listings_count_private_rooms</th>\n",
       "      <th>calculated_host_listings_count_shared_rooms</th>\n",
       "      <th>reviews_per_month</th>\n",
       "    </tr>\n",
       "  </thead>\n",
       "  <tbody>\n",
       "    <tr>\n",
       "      <th>0</th>\n",
       "      <td>1377061</td>\n",
       "      <td>https://www.airbnb.com/rooms/1377061</td>\n",
       "      <td>20230624004849</td>\n",
       "      <td>2023-06-24</td>\n",
       "      <td>city scrape</td>\n",
       "      <td>Rental unit in Prague · ★4.51 · 1 bedroom · 1 ...</td>\n",
       "      <td>In leafy yet central location Prague - Radotin...</td>\n",
       "      <td>NaN</td>\n",
       "      <td>https://a0.muscache.com/pictures/20709870/1e87...</td>\n",
       "      <td>7287777</td>\n",
       "      <td>https://www.airbnb.com/users/show/7287777</td>\n",
       "      <td>Simon</td>\n",
       "      <td>2013-07-04</td>\n",
       "      <td>Prague, Czechia</td>\n",
       "      <td>Me and my son Simon are ready to show you the ...</td>\n",
       "      <td>within a day</td>\n",
       "      <td>100%</td>\n",
       "      <td>89%</td>\n",
       "      <td>NaN</td>\n",
       "      <td>https://a0.muscache.com/im/pictures/user/f9e0b...</td>\n",
       "      <td>https://a0.muscache.com/im/pictures/user/f9e0b...</td>\n",
       "      <td>Prague 16</td>\n",
       "      <td>2</td>\n",
       "      <td>6</td>\n",
       "      <td>['email', 'phone', 'work_email']</td>\n",
       "      <td>t</td>\n",
       "      <td>t</td>\n",
       "      <td>NaN</td>\n",
       "      <td>Praha 16</td>\n",
       "      <td>NaN</td>\n",
       "      <td>49.98424</td>\n",
       "      <td>14.36388</td>\n",
       "      <td>Private room in rental unit</td>\n",
       "      <td>Private room</td>\n",
       "      <td>2</td>\n",
       "      <td>NaN</td>\n",
       "      <td>1 shared bath</td>\n",
       "      <td>NaN</td>\n",
       "      <td>1.0</td>\n",
       "      <td>[\"Outdoor furniture\", \"Resort access\", \"Wifi\",...</td>\n",
       "      <td>$862.00</td>\n",
       "      <td>2</td>\n",
       "      <td>7</td>\n",
       "      <td>2</td>\n",
       "      <td>2</td>\n",
       "      <td>7</td>\n",
       "      <td>7</td>\n",
       "      <td>2.0</td>\n",
       "      <td>7.0</td>\n",
       "      <td>NaN</td>\n",
       "      <td>t</td>\n",
       "      <td>30</td>\n",
       "      <td>60</td>\n",
       "      <td>90</td>\n",
       "      <td>365</td>\n",
       "      <td>2023-06-24</td>\n",
       "      <td>62</td>\n",
       "      <td>12</td>\n",
       "      <td>2</td>\n",
       "      <td>2015-01-05</td>\n",
       "      <td>2023-06-03</td>\n",
       "      <td>4.51</td>\n",
       "      <td>4.60</td>\n",
       "      <td>4.12</td>\n",
       "      <td>4.64</td>\n",
       "      <td>4.95</td>\n",
       "      <td>4.54</td>\n",
       "      <td>4.53</td>\n",
       "      <td>NaN</td>\n",
       "      <td>f</td>\n",
       "      <td>2</td>\n",
       "      <td>1</td>\n",
       "      <td>1</td>\n",
       "      <td>0</td>\n",
       "      <td>0.60</td>\n",
       "    </tr>\n",
       "    <tr>\n",
       "      <th>1</th>\n",
       "      <td>1379714</td>\n",
       "      <td>https://www.airbnb.com/rooms/1379714</td>\n",
       "      <td>20230624004849</td>\n",
       "      <td>2023-06-24</td>\n",
       "      <td>city scrape</td>\n",
       "      <td>Rental unit in Prague · ★4.72 · 2 bedrooms · 1...</td>\n",
       "      <td>A special type of accommodation that will allo...</td>\n",
       "      <td>NaN</td>\n",
       "      <td>https://a0.muscache.com/pictures/40132881/64cb...</td>\n",
       "      <td>7469380</td>\n",
       "      <td>https://www.airbnb.com/users/show/7469380</td>\n",
       "      <td>Jarda</td>\n",
       "      <td>2013-07-14</td>\n",
       "      <td>Prague, Czechia</td>\n",
       "      <td>My name is Jarda, I work in Prague :-) and I l...</td>\n",
       "      <td>within an hour</td>\n",
       "      <td>100%</td>\n",
       "      <td>97%</td>\n",
       "      <td>t</td>\n",
       "      <td>https://a0.muscache.com/im/users/7469380/profi...</td>\n",
       "      <td>https://a0.muscache.com/im/users/7469380/profi...</td>\n",
       "      <td>Nové Město</td>\n",
       "      <td>2</td>\n",
       "      <td>3</td>\n",
       "      <td>['email', 'phone']</td>\n",
       "      <td>t</td>\n",
       "      <td>t</td>\n",
       "      <td>NaN</td>\n",
       "      <td>Praha 2</td>\n",
       "      <td>NaN</td>\n",
       "      <td>50.07565</td>\n",
       "      <td>14.41665</td>\n",
       "      <td>Entire rental unit</td>\n",
       "      <td>Entire home/apt</td>\n",
       "      <td>16</td>\n",
       "      <td>NaN</td>\n",
       "      <td>2 baths</td>\n",
       "      <td>2.0</td>\n",
       "      <td>16.0</td>\n",
       "      <td>[\"Wifi\", \"Dishes and silverware\", \"Smoke alarm...</td>\n",
       "      <td>$3,600.00</td>\n",
       "      <td>2</td>\n",
       "      <td>1125</td>\n",
       "      <td>2</td>\n",
       "      <td>2</td>\n",
       "      <td>1125</td>\n",
       "      <td>1125</td>\n",
       "      <td>2.0</td>\n",
       "      <td>1125.0</td>\n",
       "      <td>NaN</td>\n",
       "      <td>t</td>\n",
       "      <td>6</td>\n",
       "      <td>15</td>\n",
       "      <td>42</td>\n",
       "      <td>132</td>\n",
       "      <td>2023-06-24</td>\n",
       "      <td>111</td>\n",
       "      <td>17</td>\n",
       "      <td>2</td>\n",
       "      <td>2014-09-07</td>\n",
       "      <td>2023-06-11</td>\n",
       "      <td>4.72</td>\n",
       "      <td>4.83</td>\n",
       "      <td>4.25</td>\n",
       "      <td>4.87</td>\n",
       "      <td>4.89</td>\n",
       "      <td>4.80</td>\n",
       "      <td>4.73</td>\n",
       "      <td>NaN</td>\n",
       "      <td>t</td>\n",
       "      <td>1</td>\n",
       "      <td>1</td>\n",
       "      <td>0</td>\n",
       "      <td>0</td>\n",
       "      <td>1.04</td>\n",
       "    </tr>\n",
       "    <tr>\n",
       "      <th>2</th>\n",
       "      <td>667478</td>\n",
       "      <td>https://www.airbnb.com/rooms/667478</td>\n",
       "      <td>20230624004849</td>\n",
       "      <td>2023-06-24</td>\n",
       "      <td>city scrape</td>\n",
       "      <td>Rental unit in Prague · ★4.57 · Studio · 1 bed...</td>\n",
       "      <td>Royal Court Hotel is a brand new, modern and c...</td>\n",
       "      <td>Our family hotel offers you 45 cozy and comfor...</td>\n",
       "      <td>https://a0.muscache.com/pictures/miso/Hosting-...</td>\n",
       "      <td>3279605</td>\n",
       "      <td>https://www.airbnb.com/users/show/3279605</td>\n",
       "      <td>Elena And Kira</td>\n",
       "      <td>2012-08-16</td>\n",
       "      <td>Prague, Czechia</td>\n",
       "      <td>We work for The Royal Court Apartments as Rese...</td>\n",
       "      <td>within a few hours</td>\n",
       "      <td>100%</td>\n",
       "      <td>72%</td>\n",
       "      <td>t</td>\n",
       "      <td>https://a0.muscache.com/im/users/3279605/profi...</td>\n",
       "      <td>https://a0.muscache.com/im/users/3279605/profi...</td>\n",
       "      <td>Prague 2</td>\n",
       "      <td>17</td>\n",
       "      <td>17</td>\n",
       "      <td>['email', 'phone', 'work_email']</td>\n",
       "      <td>t</td>\n",
       "      <td>t</td>\n",
       "      <td>Prague, Hlavní město Praha, Czechia</td>\n",
       "      <td>Praha 2</td>\n",
       "      <td>NaN</td>\n",
       "      <td>50.07040</td>\n",
       "      <td>14.42886</td>\n",
       "      <td>Entire rental unit</td>\n",
       "      <td>Entire home/apt</td>\n",
       "      <td>3</td>\n",
       "      <td>NaN</td>\n",
       "      <td>1 bath</td>\n",
       "      <td>NaN</td>\n",
       "      <td>1.0</td>\n",
       "      <td>[\"Pack \\u2019n play/Travel crib\", \"Wifi\", \"Sho...</td>\n",
       "      <td>$7,012.00</td>\n",
       "      <td>1</td>\n",
       "      <td>1125</td>\n",
       "      <td>1</td>\n",
       "      <td>1</td>\n",
       "      <td>1125</td>\n",
       "      <td>1125</td>\n",
       "      <td>1.0</td>\n",
       "      <td>1125.0</td>\n",
       "      <td>NaN</td>\n",
       "      <td>t</td>\n",
       "      <td>2</td>\n",
       "      <td>8</td>\n",
       "      <td>24</td>\n",
       "      <td>277</td>\n",
       "      <td>2023-06-24</td>\n",
       "      <td>173</td>\n",
       "      <td>0</td>\n",
       "      <td>0</td>\n",
       "      <td>2012-09-17</td>\n",
       "      <td>2020-11-22</td>\n",
       "      <td>4.57</td>\n",
       "      <td>4.59</td>\n",
       "      <td>4.80</td>\n",
       "      <td>4.83</td>\n",
       "      <td>4.78</td>\n",
       "      <td>4.35</td>\n",
       "      <td>4.74</td>\n",
       "      <td>NaN</td>\n",
       "      <td>f</td>\n",
       "      <td>16</td>\n",
       "      <td>15</td>\n",
       "      <td>1</td>\n",
       "      <td>0</td>\n",
       "      <td>1.32</td>\n",
       "    </tr>\n",
       "    <tr>\n",
       "      <th>3</th>\n",
       "      <td>668858</td>\n",
       "      <td>https://www.airbnb.com/rooms/668858</td>\n",
       "      <td>20230624004849</td>\n",
       "      <td>2023-06-24</td>\n",
       "      <td>city scrape</td>\n",
       "      <td>Rental unit in Prague · ★4.72 · 1 bedroom · 2 ...</td>\n",
       "      <td>A  charming studio with A/C can accommodate up...</td>\n",
       "      <td>NaN</td>\n",
       "      <td>https://a0.muscache.com/pictures/79679116/6d96...</td>\n",
       "      <td>2635161</td>\n",
       "      <td>https://www.airbnb.com/users/show/2635161</td>\n",
       "      <td>Pavel</td>\n",
       "      <td>2012-06-14</td>\n",
       "      <td>Prague, Czechia</td>\n",
       "      <td>We started to handle this business  in 1999. F...</td>\n",
       "      <td>within an hour</td>\n",
       "      <td>100%</td>\n",
       "      <td>95%</td>\n",
       "      <td>f</td>\n",
       "      <td>https://a0.muscache.com/im/users/2635161/profi...</td>\n",
       "      <td>https://a0.muscache.com/im/users/2635161/profi...</td>\n",
       "      <td>Josefov</td>\n",
       "      <td>4</td>\n",
       "      <td>169</td>\n",
       "      <td>['email', 'phone']</td>\n",
       "      <td>t</td>\n",
       "      <td>t</td>\n",
       "      <td>NaN</td>\n",
       "      <td>Praha 1</td>\n",
       "      <td>NaN</td>\n",
       "      <td>50.09043</td>\n",
       "      <td>14.41918</td>\n",
       "      <td>Entire rental unit</td>\n",
       "      <td>Entire home/apt</td>\n",
       "      <td>4</td>\n",
       "      <td>NaN</td>\n",
       "      <td>1 bath</td>\n",
       "      <td>1.0</td>\n",
       "      <td>2.0</td>\n",
       "      <td>[\"Wifi\", \"TV with standard cable\", \"Kitchen\", ...</td>\n",
       "      <td>$2,649.00</td>\n",
       "      <td>3</td>\n",
       "      <td>1125</td>\n",
       "      <td>3</td>\n",
       "      <td>3</td>\n",
       "      <td>1125</td>\n",
       "      <td>1125</td>\n",
       "      <td>3.0</td>\n",
       "      <td>1125.0</td>\n",
       "      <td>NaN</td>\n",
       "      <td>t</td>\n",
       "      <td>25</td>\n",
       "      <td>51</td>\n",
       "      <td>76</td>\n",
       "      <td>351</td>\n",
       "      <td>2023-06-24</td>\n",
       "      <td>46</td>\n",
       "      <td>10</td>\n",
       "      <td>2</td>\n",
       "      <td>2015-07-21</td>\n",
       "      <td>2023-06-11</td>\n",
       "      <td>4.72</td>\n",
       "      <td>4.87</td>\n",
       "      <td>4.76</td>\n",
       "      <td>4.87</td>\n",
       "      <td>4.72</td>\n",
       "      <td>4.96</td>\n",
       "      <td>4.67</td>\n",
       "      <td>NaN</td>\n",
       "      <td>f</td>\n",
       "      <td>4</td>\n",
       "      <td>4</td>\n",
       "      <td>0</td>\n",
       "      <td>0</td>\n",
       "      <td>0.48</td>\n",
       "    </tr>\n",
       "    <tr>\n",
       "      <th>4</th>\n",
       "      <td>668880</td>\n",
       "      <td>https://www.airbnb.com/rooms/668880</td>\n",
       "      <td>20230624004849</td>\n",
       "      <td>2023-06-24</td>\n",
       "      <td>city scrape</td>\n",
       "      <td>Rental unit in Prague · ★4.57 · 2 bedrooms · 2...</td>\n",
       "      <td>1 bedroom apartment with A/C  can accommodate ...</td>\n",
       "      <td>NaN</td>\n",
       "      <td>https://a0.muscache.com/pictures/79680420/7226...</td>\n",
       "      <td>2635161</td>\n",
       "      <td>https://www.airbnb.com/users/show/2635161</td>\n",
       "      <td>Pavel</td>\n",
       "      <td>2012-06-14</td>\n",
       "      <td>Prague, Czechia</td>\n",
       "      <td>We started to handle this business  in 1999. F...</td>\n",
       "      <td>within an hour</td>\n",
       "      <td>100%</td>\n",
       "      <td>95%</td>\n",
       "      <td>f</td>\n",
       "      <td>https://a0.muscache.com/im/users/2635161/profi...</td>\n",
       "      <td>https://a0.muscache.com/im/users/2635161/profi...</td>\n",
       "      <td>Josefov</td>\n",
       "      <td>4</td>\n",
       "      <td>169</td>\n",
       "      <td>['email', 'phone']</td>\n",
       "      <td>t</td>\n",
       "      <td>t</td>\n",
       "      <td>NaN</td>\n",
       "      <td>Praha 1</td>\n",
       "      <td>NaN</td>\n",
       "      <td>50.09061</td>\n",
       "      <td>14.41986</td>\n",
       "      <td>Entire rental unit</td>\n",
       "      <td>Entire home/apt</td>\n",
       "      <td>4</td>\n",
       "      <td>NaN</td>\n",
       "      <td>1 bath</td>\n",
       "      <td>2.0</td>\n",
       "      <td>2.0</td>\n",
       "      <td>[\"Wifi\", \"TV with standard cable\", \"Kitchen\", ...</td>\n",
       "      <td>$2,886.00</td>\n",
       "      <td>3</td>\n",
       "      <td>1125</td>\n",
       "      <td>3</td>\n",
       "      <td>3</td>\n",
       "      <td>1125</td>\n",
       "      <td>1125</td>\n",
       "      <td>3.0</td>\n",
       "      <td>1125.0</td>\n",
       "      <td>NaN</td>\n",
       "      <td>t</td>\n",
       "      <td>27</td>\n",
       "      <td>45</td>\n",
       "      <td>70</td>\n",
       "      <td>345</td>\n",
       "      <td>2023-06-24</td>\n",
       "      <td>49</td>\n",
       "      <td>6</td>\n",
       "      <td>2</td>\n",
       "      <td>2015-04-06</td>\n",
       "      <td>2023-06-03</td>\n",
       "      <td>4.57</td>\n",
       "      <td>4.82</td>\n",
       "      <td>4.57</td>\n",
       "      <td>4.86</td>\n",
       "      <td>4.92</td>\n",
       "      <td>5.00</td>\n",
       "      <td>4.57</td>\n",
       "      <td>NaN</td>\n",
       "      <td>f</td>\n",
       "      <td>4</td>\n",
       "      <td>4</td>\n",
       "      <td>0</td>\n",
       "      <td>0</td>\n",
       "      <td>0.49</td>\n",
       "    </tr>\n",
       "  </tbody>\n",
       "</table>\n",
       "</div>"
      ],
      "text/plain": [
       "        id                           listing_url       scrape_id last_scraped  \\\n",
       "0  1377061  https://www.airbnb.com/rooms/1377061  20230624004849   2023-06-24   \n",
       "1  1379714  https://www.airbnb.com/rooms/1379714  20230624004849   2023-06-24   \n",
       "2   667478   https://www.airbnb.com/rooms/667478  20230624004849   2023-06-24   \n",
       "3   668858   https://www.airbnb.com/rooms/668858  20230624004849   2023-06-24   \n",
       "4   668880   https://www.airbnb.com/rooms/668880  20230624004849   2023-06-24   \n",
       "\n",
       "        source                                               name  \\\n",
       "0  city scrape  Rental unit in Prague · ★4.51 · 1 bedroom · 1 ...   \n",
       "1  city scrape  Rental unit in Prague · ★4.72 · 2 bedrooms · 1...   \n",
       "2  city scrape  Rental unit in Prague · ★4.57 · Studio · 1 bed...   \n",
       "3  city scrape  Rental unit in Prague · ★4.72 · 1 bedroom · 2 ...   \n",
       "4  city scrape  Rental unit in Prague · ★4.57 · 2 bedrooms · 2...   \n",
       "\n",
       "                                         description  \\\n",
       "0  In leafy yet central location Prague - Radotin...   \n",
       "1  A special type of accommodation that will allo...   \n",
       "2  Royal Court Hotel is a brand new, modern and c...   \n",
       "3  A  charming studio with A/C can accommodate up...   \n",
       "4  1 bedroom apartment with A/C  can accommodate ...   \n",
       "\n",
       "                               neighborhood_overview  \\\n",
       "0                                                NaN   \n",
       "1                                                NaN   \n",
       "2  Our family hotel offers you 45 cozy and comfor...   \n",
       "3                                                NaN   \n",
       "4                                                NaN   \n",
       "\n",
       "                                         picture_url  host_id  \\\n",
       "0  https://a0.muscache.com/pictures/20709870/1e87...  7287777   \n",
       "1  https://a0.muscache.com/pictures/40132881/64cb...  7469380   \n",
       "2  https://a0.muscache.com/pictures/miso/Hosting-...  3279605   \n",
       "3  https://a0.muscache.com/pictures/79679116/6d96...  2635161   \n",
       "4  https://a0.muscache.com/pictures/79680420/7226...  2635161   \n",
       "\n",
       "                                    host_url       host_name  host_since  \\\n",
       "0  https://www.airbnb.com/users/show/7287777           Simon  2013-07-04   \n",
       "1  https://www.airbnb.com/users/show/7469380           Jarda  2013-07-14   \n",
       "2  https://www.airbnb.com/users/show/3279605  Elena And Kira  2012-08-16   \n",
       "3  https://www.airbnb.com/users/show/2635161           Pavel  2012-06-14   \n",
       "4  https://www.airbnb.com/users/show/2635161           Pavel  2012-06-14   \n",
       "\n",
       "     host_location                                         host_about  \\\n",
       "0  Prague, Czechia  Me and my son Simon are ready to show you the ...   \n",
       "1  Prague, Czechia  My name is Jarda, I work in Prague :-) and I l...   \n",
       "2  Prague, Czechia  We work for The Royal Court Apartments as Rese...   \n",
       "3  Prague, Czechia  We started to handle this business  in 1999. F...   \n",
       "4  Prague, Czechia  We started to handle this business  in 1999. F...   \n",
       "\n",
       "   host_response_time host_response_rate host_acceptance_rate  \\\n",
       "0        within a day               100%                  89%   \n",
       "1      within an hour               100%                  97%   \n",
       "2  within a few hours               100%                  72%   \n",
       "3      within an hour               100%                  95%   \n",
       "4      within an hour               100%                  95%   \n",
       "\n",
       "  host_is_superhost                                 host_thumbnail_url  \\\n",
       "0               NaN  https://a0.muscache.com/im/pictures/user/f9e0b...   \n",
       "1                 t  https://a0.muscache.com/im/users/7469380/profi...   \n",
       "2                 t  https://a0.muscache.com/im/users/3279605/profi...   \n",
       "3                 f  https://a0.muscache.com/im/users/2635161/profi...   \n",
       "4                 f  https://a0.muscache.com/im/users/2635161/profi...   \n",
       "\n",
       "                                    host_picture_url host_neighbourhood  \\\n",
       "0  https://a0.muscache.com/im/pictures/user/f9e0b...          Prague 16   \n",
       "1  https://a0.muscache.com/im/users/7469380/profi...         Nové Město   \n",
       "2  https://a0.muscache.com/im/users/3279605/profi...           Prague 2   \n",
       "3  https://a0.muscache.com/im/users/2635161/profi...            Josefov   \n",
       "4  https://a0.muscache.com/im/users/2635161/profi...            Josefov   \n",
       "\n",
       "   host_listings_count  host_total_listings_count  \\\n",
       "0                    2                          6   \n",
       "1                    2                          3   \n",
       "2                   17                         17   \n",
       "3                    4                        169   \n",
       "4                    4                        169   \n",
       "\n",
       "                 host_verifications host_has_profile_pic  \\\n",
       "0  ['email', 'phone', 'work_email']                    t   \n",
       "1                ['email', 'phone']                    t   \n",
       "2  ['email', 'phone', 'work_email']                    t   \n",
       "3                ['email', 'phone']                    t   \n",
       "4                ['email', 'phone']                    t   \n",
       "\n",
       "  host_identity_verified                        neighbourhood  \\\n",
       "0                      t                                  NaN   \n",
       "1                      t                                  NaN   \n",
       "2                      t  Prague, Hlavní město Praha, Czechia   \n",
       "3                      t                                  NaN   \n",
       "4                      t                                  NaN   \n",
       "\n",
       "  neighbourhood_cleansed  neighbourhood_group_cleansed  latitude  longitude  \\\n",
       "0               Praha 16                           NaN  49.98424   14.36388   \n",
       "1                Praha 2                           NaN  50.07565   14.41665   \n",
       "2                Praha 2                           NaN  50.07040   14.42886   \n",
       "3                Praha 1                           NaN  50.09043   14.41918   \n",
       "4                Praha 1                           NaN  50.09061   14.41986   \n",
       "\n",
       "                 property_type        room_type  accommodates  bathrooms  \\\n",
       "0  Private room in rental unit     Private room             2        NaN   \n",
       "1           Entire rental unit  Entire home/apt            16        NaN   \n",
       "2           Entire rental unit  Entire home/apt             3        NaN   \n",
       "3           Entire rental unit  Entire home/apt             4        NaN   \n",
       "4           Entire rental unit  Entire home/apt             4        NaN   \n",
       "\n",
       "  bathrooms_text  bedrooms  beds  \\\n",
       "0  1 shared bath       NaN   1.0   \n",
       "1        2 baths       2.0  16.0   \n",
       "2         1 bath       NaN   1.0   \n",
       "3         1 bath       1.0   2.0   \n",
       "4         1 bath       2.0   2.0   \n",
       "\n",
       "                                           amenities      price  \\\n",
       "0  [\"Outdoor furniture\", \"Resort access\", \"Wifi\",...    $862.00   \n",
       "1  [\"Wifi\", \"Dishes and silverware\", \"Smoke alarm...  $3,600.00   \n",
       "2  [\"Pack \\u2019n play/Travel crib\", \"Wifi\", \"Sho...  $7,012.00   \n",
       "3  [\"Wifi\", \"TV with standard cable\", \"Kitchen\", ...  $2,649.00   \n",
       "4  [\"Wifi\", \"TV with standard cable\", \"Kitchen\", ...  $2,886.00   \n",
       "\n",
       "   minimum_nights  maximum_nights  minimum_minimum_nights  \\\n",
       "0               2               7                       2   \n",
       "1               2            1125                       2   \n",
       "2               1            1125                       1   \n",
       "3               3            1125                       3   \n",
       "4               3            1125                       3   \n",
       "\n",
       "   maximum_minimum_nights  minimum_maximum_nights  maximum_maximum_nights  \\\n",
       "0                       2                       7                       7   \n",
       "1                       2                    1125                    1125   \n",
       "2                       1                    1125                    1125   \n",
       "3                       3                    1125                    1125   \n",
       "4                       3                    1125                    1125   \n",
       "\n",
       "   minimum_nights_avg_ntm  maximum_nights_avg_ntm  calendar_updated  \\\n",
       "0                     2.0                     7.0               NaN   \n",
       "1                     2.0                  1125.0               NaN   \n",
       "2                     1.0                  1125.0               NaN   \n",
       "3                     3.0                  1125.0               NaN   \n",
       "4                     3.0                  1125.0               NaN   \n",
       "\n",
       "  has_availability  availability_30  availability_60  availability_90  \\\n",
       "0                t               30               60               90   \n",
       "1                t                6               15               42   \n",
       "2                t                2                8               24   \n",
       "3                t               25               51               76   \n",
       "4                t               27               45               70   \n",
       "\n",
       "   availability_365 calendar_last_scraped  number_of_reviews  \\\n",
       "0               365            2023-06-24                 62   \n",
       "1               132            2023-06-24                111   \n",
       "2               277            2023-06-24                173   \n",
       "3               351            2023-06-24                 46   \n",
       "4               345            2023-06-24                 49   \n",
       "\n",
       "   number_of_reviews_ltm  number_of_reviews_l30d first_review last_review  \\\n",
       "0                     12                       2   2015-01-05  2023-06-03   \n",
       "1                     17                       2   2014-09-07  2023-06-11   \n",
       "2                      0                       0   2012-09-17  2020-11-22   \n",
       "3                     10                       2   2015-07-21  2023-06-11   \n",
       "4                      6                       2   2015-04-06  2023-06-03   \n",
       "\n",
       "   review_scores_rating  review_scores_accuracy  review_scores_cleanliness  \\\n",
       "0                  4.51                    4.60                       4.12   \n",
       "1                  4.72                    4.83                       4.25   \n",
       "2                  4.57                    4.59                       4.80   \n",
       "3                  4.72                    4.87                       4.76   \n",
       "4                  4.57                    4.82                       4.57   \n",
       "\n",
       "   review_scores_checkin  review_scores_communication  review_scores_location  \\\n",
       "0                   4.64                         4.95                    4.54   \n",
       "1                   4.87                         4.89                    4.80   \n",
       "2                   4.83                         4.78                    4.35   \n",
       "3                   4.87                         4.72                    4.96   \n",
       "4                   4.86                         4.92                    5.00   \n",
       "\n",
       "   review_scores_value  license instant_bookable  \\\n",
       "0                 4.53      NaN                f   \n",
       "1                 4.73      NaN                t   \n",
       "2                 4.74      NaN                f   \n",
       "3                 4.67      NaN                f   \n",
       "4                 4.57      NaN                f   \n",
       "\n",
       "   calculated_host_listings_count  \\\n",
       "0                               2   \n",
       "1                               1   \n",
       "2                              16   \n",
       "3                               4   \n",
       "4                               4   \n",
       "\n",
       "   calculated_host_listings_count_entire_homes  \\\n",
       "0                                            1   \n",
       "1                                            1   \n",
       "2                                           15   \n",
       "3                                            4   \n",
       "4                                            4   \n",
       "\n",
       "   calculated_host_listings_count_private_rooms  \\\n",
       "0                                             1   \n",
       "1                                             0   \n",
       "2                                             1   \n",
       "3                                             0   \n",
       "4                                             0   \n",
       "\n",
       "   calculated_host_listings_count_shared_rooms  reviews_per_month  \n",
       "0                                            0               0.60  \n",
       "1                                            0               1.04  \n",
       "2                                            0               1.32  \n",
       "3                                            0               0.48  \n",
       "4                                            0               0.49  "
      ]
     },
     "execution_count": 7,
     "metadata": {},
     "output_type": "execute_result"
    }
   ],
   "source": [
    "listings_df.head(5)"
   ]
  },
  {
   "cell_type": "code",
   "execution_count": 8,
   "metadata": {},
   "outputs": [
    {
     "data": {
      "text/plain": [
       "array(['Praha 16', 'Praha 2', 'Praha 1', 'Praha 10', 'Praha 7', 'Praha 8',\n",
       "       'Praha 5', 'Praha 3', 'Praha 9', 'Praha 6', 'Praha 4', 'Praha 14',\n",
       "       'Praha 17', 'Praha 13', 'Praha 15', 'Velká Chuchle', 'Suchdol',\n",
       "       'Praha 18', 'Dubeč', 'Dolní Chabry', 'Zbraslav', 'Praha 22',\n",
       "       'Petrovice', 'Kunratice', 'Zličín', 'Praha 11', 'Praha 21',\n",
       "       'Klánovice', 'Praha 12', 'Šeberov', 'Újezd', 'Štěrboholy',\n",
       "       'Řeporyje', 'Lysolaje', 'Ďáblice', 'Kolovraty', 'Slivenec',\n",
       "       'Dolní Počernice', 'Libuš', 'Praha 20', 'Troja', 'Praha 19',\n",
       "       'Březiněves', 'Koloděje', 'Nebušice', 'Satalice', 'Čakovice',\n",
       "       'Lipence', 'Dolní Měcholupy', 'Vinoř', 'Nedvězí'], dtype=object)"
      ]
     },
     "execution_count": 8,
     "metadata": {},
     "output_type": "execute_result"
    }
   ],
   "source": [
    "listings_df[\"neighbourhood_cleansed\"].unique()"
   ]
  },
  {
   "cell_type": "code",
   "execution_count": 9,
   "metadata": {},
   "outputs": [
    {
     "data": {
      "text/plain": [
       "array([nan])"
      ]
     },
     "execution_count": 9,
     "metadata": {},
     "output_type": "execute_result"
    }
   ],
   "source": [
    "listings_df[\"neighbourhood_group_cleansed\"].unique()"
   ]
  },
  {
   "cell_type": "code",
   "execution_count": 10,
   "metadata": {},
   "outputs": [
    {
     "data": {
      "text/plain": [
       "array(['Private room in rental unit', 'Entire rental unit',\n",
       "       'Entire serviced apartment', 'Entire condo', 'Tiny home',\n",
       "       'Entire guest suite', 'Private room in serviced apartment',\n",
       "       'Private room in home', 'Entire loft',\n",
       "       'Private room in bed and breakfast', 'Entire guesthouse',\n",
       "       'Private room in condo', 'Room in aparthotel',\n",
       "       'Shared room in bed and breakfast', 'Room in serviced apartment',\n",
       "       'Entire home', 'Private room in loft', 'Private room in townhouse',\n",
       "       'Room in hotel', 'Room in boutique hotel', 'Entire villa',\n",
       "       'Entire townhouse', 'Boat', 'Shared room in rental unit',\n",
       "       'Shared room in hostel', 'Houseboat', 'Entire bed and breakfast',\n",
       "       'Private room in guest suite', 'Room in bed and breakfast',\n",
       "       'Private room in hostel', 'Room in hostel', 'Entire place',\n",
       "       'Private room in villa', 'Private room in guesthouse',\n",
       "       'Private room', 'Entire bungalow', 'Shared room in condo',\n",
       "       'Private room in castle', 'Entire cottage', 'Private room in boat',\n",
       "       'Entire cabin', 'Camper/RV', 'Private room in farm stay',\n",
       "       'Private room in cabin', 'Dome', 'Private room in dome',\n",
       "       'Private room in pension', 'Yurt', 'Cave',\n",
       "       'Private room in camper/rv', 'Private room in vacation home',\n",
       "       'Entire vacation home', 'Entire chalet', 'Hut',\n",
       "       'Shared room in loft', 'Private room in tower',\n",
       "       'Private room in casa particular', 'Entire home/apt', 'Farm stay',\n",
       "       'Shared room in serviced apartment', 'Shared room in hotel',\n",
       "       'Private room in earthen home', 'Shared room in home'],\n",
       "      dtype=object)"
      ]
     },
     "execution_count": 10,
     "metadata": {},
     "output_type": "execute_result"
    }
   ],
   "source": [
    "listings_df[\"property_type\"].unique()"
   ]
  },
  {
   "cell_type": "code",
   "execution_count": 11,
   "metadata": {},
   "outputs": [
    {
     "data": {
      "text/plain": [
       "array(['Private room', 'Entire home/apt', 'Hotel room', 'Shared room'],\n",
       "      dtype=object)"
      ]
     },
     "execution_count": 11,
     "metadata": {},
     "output_type": "execute_result"
    }
   ],
   "source": [
    "listings_df[\"room_type\"].unique()"
   ]
  },
  {
   "cell_type": "code",
   "execution_count": 12,
   "metadata": {},
   "outputs": [
    {
     "data": {
      "text/plain": [
       "array([ 2, 16,  3,  4,  5,  6,  7,  8,  9, 12,  1, 14, 10, 15, 11, 13,  0],\n",
       "      dtype=int64)"
      ]
     },
     "execution_count": 12,
     "metadata": {},
     "output_type": "execute_result"
    }
   ],
   "source": [
    "listings_df[\"accommodates\"].unique()"
   ]
  },
  {
   "cell_type": "code",
   "execution_count": 13,
   "metadata": {},
   "outputs": [
    {
     "data": {
      "text/plain": [
       "array([4.51, 4.72, 4.57, 4.54, 4.41, 4.79, 5.  , 4.88, 4.92, 4.71, 4.82,\n",
       "       4.96, 4.94, 4.25, 4.83, 4.66, 4.58, 4.76, 4.9 , 4.42, 4.91, 4.52,\n",
       "       4.43, 4.8 , 4.81, 4.75, 4.55, 4.68, 4.93, 4.74, 4.6 , 4.65, 4.62,\n",
       "       4.59, 4.77, 4.84, 4.86, 4.31, 4.35, 4.87, 4.46, 4.69, 4.48, 4.37,\n",
       "       4.5 , 4.22, 4.89, 0.  , 4.29, 4.64, 4.63, 4.19, 4.95, 4.34, 4.05,\n",
       "       4.61, 4.67, 4.47, 4.1 , 4.73, 4.78, 4.97, 4.27, 4.56, 4.53, 4.08,\n",
       "       4.04, 4.4 , 4.49, 3.9 , 4.44, 4.2 , 4.45,  nan, 4.85, 4.39, 4.7 ,\n",
       "       4.16, 4.99, 4.38, 4.  , 4.18, 3.33, 4.09, 4.14, 4.33, 4.21, 4.17,\n",
       "       3.71, 4.13, 4.98, 3.96, 4.32, 4.28, 3.  , 3.88, 4.15, 3.67, 3.97,\n",
       "       3.75, 4.07, 4.23, 4.36, 2.  , 4.26, 3.83, 3.5 , 1.  , 2.43, 4.3 ,\n",
       "       4.24, 3.2 , 3.93, 2.8 , 3.63, 3.86, 4.12, 3.92, 3.25, 2.5 , 3.38,\n",
       "       3.89, 3.6 , 3.95, 4.06, 3.69, 3.98, 3.57, 2.67, 3.94, 4.01, 4.03,\n",
       "       3.8 , 3.64, 2.4 , 2.75, 3.82, 3.77, 2.83, 3.4 , 3.7 , 4.11, 3.36,\n",
       "       3.78, 3.43])"
      ]
     },
     "execution_count": 13,
     "metadata": {},
     "output_type": "execute_result"
    }
   ],
   "source": [
    "listings_df[\"review_scores_rating\"].unique()"
   ]
  },
  {
   "cell_type": "markdown",
   "metadata": {},
   "source": [
    "Variables en análisis\n",
    "1. price\n",
    "2. neighbourhood_cleansed\n",
    "3. review_scores_rating\n",
    "4. room_type\n",
    "5. review_scores_location \n"
   ]
  },
  {
   "cell_type": "markdown",
   "metadata": {},
   "source": [
    "Análisis de precio"
   ]
  },
  {
   "cell_type": "code",
   "execution_count": 19,
   "metadata": {},
   "outputs": [
    {
     "data": {
      "text/plain": [
       "count          8427\n",
       "unique         2991\n",
       "top       $1,200.00\n",
       "freq            124\n",
       "Name: price, dtype: object"
      ]
     },
     "execution_count": 19,
     "metadata": {},
     "output_type": "execute_result"
    }
   ],
   "source": [
    "listings_df[\"price\"].describe()"
   ]
  },
  {
   "cell_type": "code",
   "execution_count": 16,
   "metadata": {},
   "outputs": [],
   "source": [
    "# We need to transform the price attribute from object to float\n",
    "listings_df[\"price_float\"] = listings_df[\"price\"].str.replace(\"[$,]\", \"\", regex=True).astype(float)"
   ]
  },
  {
   "cell_type": "code",
   "execution_count": 18,
   "metadata": {},
   "outputs": [
    {
     "data": {
      "text/plain": [
       "count      8427.000000\n",
       "mean       3350.362644\n",
       "std        7311.258998\n",
       "min           0.000000\n",
       "25%        1487.000000\n",
       "50%        2117.000000\n",
       "75%        3217.000000\n",
       "max      300000.000000\n",
       "Name: price_float, dtype: float64"
      ]
     },
     "execution_count": 18,
     "metadata": {},
     "output_type": "execute_result"
    }
   ],
   "source": [
    "listings_df[\"price_float\"].describe()"
   ]
  },
  {
   "cell_type": "code",
   "execution_count": 20,
   "metadata": {},
   "outputs": [
    {
     "data": {
      "text/plain": [
       "count      8427.000000\n",
       "mean       3350.362644\n",
       "std        7311.258998\n",
       "min           0.000000\n",
       "5%          800.000000\n",
       "25%        1487.000000\n",
       "50%        2117.000000\n",
       "75%        3217.000000\n",
       "95%        8500.000000\n",
       "max      300000.000000\n",
       "Name: price_float, dtype: float64"
      ]
     },
     "execution_count": 20,
     "metadata": {},
     "output_type": "execute_result"
    }
   ],
   "source": [
    "# Calculating basic statistics of accommodates\n",
    "listings_df[\"price_float\"].describe(percentiles=[0.05, 0.25, 0.5, 0.75, 0.95])"
   ]
  },
  {
   "cell_type": "code",
   "execution_count": 21,
   "metadata": {},
   "outputs": [
    {
     "data": {
      "text/plain": [
       "[]"
      ]
     },
     "execution_count": 21,
     "metadata": {},
     "output_type": "execute_result"
    },
    {
     "data": {
      "image/png": "[encoded data removed]",
      "text/plain": [
       "<Figure size 2000x500 with 1 Axes>"
      ]
     },
     "metadata": {},
     "output_type": "display_data"
    }
   ],
   "source": [
    "# Plotting a histogram for price\n",
    "plt.figure(figsize=(20, 5))\n",
    "plt.hist(listings_df[\"price_float\"], bins=50)\n",
    "plt.title(\"Price distribution\")\n",
    "plt.plot()"
   ]
  },
  {
   "cell_type": "code",
   "execution_count": 27,
   "metadata": {},
   "outputs": [
    {
     "data": {
      "image/png": "[encoded data removed]",
      "text/plain": [
       "<Figure size 2000x500 with 1 Axes>"
      ]
     },
     "metadata": {},
     "output_type": "display_data"
    }
   ],
   "source": [
    "# Plotting a boxplot for number of reviews\n",
    "plt.figure(figsize=(20, 5))\n",
    "plt.boxplot(listings_df[\"price_float\"], showmeans=True, vert=False)\n",
    "plt.title(\"Number of reviews distribution\")\n",
    "plt.show()"
   ]
  },
  {
   "cell_type": "code",
   "execution_count": 22,
   "metadata": {},
   "outputs": [],
   "source": [
    "# Let's make some calculations for determining an outlier threshold\n",
    "q1 = listings_df[\"price_float\"].quantile(0.25)\n",
    "q3 = listings_df[\"price_float\"].quantile(0.75)\n",
    "iqr = q3 - q1"
   ]
  },
  {
   "cell_type": "code",
   "execution_count": 23,
   "metadata": {},
   "outputs": [
    {
     "data": {
      "text/plain": [
       "[]"
      ]
     },
     "execution_count": 23,
     "metadata": {},
     "output_type": "execute_result"
    },
    {
     "data": {
      "image/png": "[encoded data removed]",
      "text/plain": [
       "<Figure size 2000x500 with 1 Axes>"
      ]
     },
     "metadata": {},
     "output_type": "display_data"
    }
   ],
   "source": [
    "plt.figure(figsize=(20, 5))\n",
    "plt.hist(listings_df.loc[listings_df[\"price_float\"] <= (q3 + 1.5 * iqr)][\"price_float\"], bins=50)\n",
    "plt.title(\"Price distribution\")\n",
    "plt.plot()"
   ]
  },
  {
   "cell_type": "code",
   "execution_count": 28,
   "metadata": {},
   "outputs": [
    {
     "data": {
      "text/plain": [
       "0"
      ]
     },
     "execution_count": 28,
     "metadata": {},
     "output_type": "execute_result"
    }
   ],
   "source": [
    "listings_df[\"price\"].isnull().sum( )"
   ]
  },
  {
   "cell_type": "markdown",
   "metadata": {},
   "source": [
    "Análisis de neighbourhood_cleansed"
   ]
  },
  {
   "cell_type": "markdown",
   "metadata": {},
   "source": [
    "Análisis bivariado"
   ]
  },
  {
   "cell_type": "code",
   "execution_count": 24,
   "metadata": {},
   "outputs": [
    {
     "data": {
      "text/plain": [
       "(768, 76)"
      ]
     },
     "execution_count": 24,
     "metadata": {},
     "output_type": "execute_result"
    }
   ],
   "source": [
    "# For large datasets, some visualizations are innefective when trying to represent individual instances\n",
    "# A naive strategy is to use only a random sample to visualize\n",
    "listings_sample_df =  listings_df.loc[listings_df[\"price_float\"] <= (q3 + 1.5 * iqr)].sample(frac=0.1)\n",
    "listings_sample_df.shape"
   ]
  },
  {
   "cell_type": "code",
   "execution_count": 25,
   "metadata": {},
   "outputs": [
    {
     "name": "stderr",
     "output_type": "stream",
     "text": [
      "c:\\Users\\Angie\\AppData\\Local\\Programs\\Python\\Python311\\Lib\\site-packages\\seaborn\\_oldcore.py:1498: FutureWarning: is_categorical_dtype is deprecated and will be removed in a future version. Use isinstance(dtype, CategoricalDtype) instead\n",
      "  if pd.api.types.is_categorical_dtype(vector):\n",
      "c:\\Users\\Angie\\AppData\\Local\\Programs\\Python\\Python311\\Lib\\site-packages\\seaborn\\_oldcore.py:1498: FutureWarning: is_categorical_dtype is deprecated and will be removed in a future version. Use isinstance(dtype, CategoricalDtype) instead\n",
      "  if pd.api.types.is_categorical_dtype(vector):\n"
     ]
    },
    {
     "data": {
      "image/png": "[encoded data removed]",
      "text/plain": [
       "<Figure size 1000x800 with 1 Axes>"
      ]
     },
     "metadata": {},
     "output_type": "display_data"
    }
   ],
   "source": [
    "# Plotting the relationship between price and review score value\n",
    "plt.figure(figsize=(10, 8))\n",
    "sns.scatterplot(\n",
    "    x=listings_sample_df[\"price_float\"],\n",
    "    y=listings_sample_df[\"review_scores_value\"]\n",
    ")\n",
    "plt.title(\"Relationship between price and review score value\")\n",
    "plt.grid()\n",
    "plt.show()"
   ]
  }
 ],
 "metadata": {
  "kernelspec": {
   "display_name": "Python 3",
   "language": "python",
   "name": "python3"
  },
  "language_info": {
   "codemirror_mode": {
    "name": "ipython",
    "version": 3
   },
   "file_extension": ".py",
   "mimetype": "text/x-python",
   "name": "python",
   "nbconvert_exporter": "python",
   "pygments_lexer": "ipython3",
   "version": "3.11.5"
  },
  "orig_nbformat": 4
 },
 "nbformat": 4,
 "nbformat_minor": 2
}
